{
 "cells": [
  {
   "cell_type": "code",
   "execution_count": 1,
   "id": "278deb02",
   "metadata": {},
   "outputs": [],
   "source": [
    "import pandas as pd\n",
    "import numpy as np\n",
    "\n",
    "import matplotlib.pyplot as plt\n",
    "\n",
    "from __future__ import print_function\n",
    "\n",
    "import tensorflow as tf\n",
    "\n",
    "import datetime\n",
    "import keras\n",
    "from keras.models import Sequential\n",
    "from keras.layers import Dense, Dropout, Activation, Flatten\n",
    "from keras.optimizers import RMSprop\n",
    "\n",
    "from sklearn.preprocessing import MinMaxScaler\n",
    "from sklearn.metrics import classification_report\n",
    "from sklearn.metrics import accuracy_score\n",
    "\n",
    "import matplotlib.pyplot as plt"
   ]
  },
  {
   "cell_type": "markdown",
   "id": "5b64bf1b",
   "metadata": {},
   "source": [
    "## Normal Data Preprocessing"
   ]
  },
  {
   "cell_type": "code",
   "execution_count": 2,
   "id": "07d89ee6",
   "metadata": {},
   "outputs": [
    {
     "name": "stdout",
     "output_type": "stream",
     "text": [
      "(1558, 13)\n"
     ]
    }
   ],
   "source": [
    "# Load the normal data\n",
    "normal = pd.read_csv(\"inside_station_normal.csv\", sep = ';')\n",
    "print(normal.shape)"
   ]
  },
  {
   "cell_type": "code",
   "execution_count": 3,
   "id": "d5f795c5",
   "metadata": {
    "scrolled": false
   },
   "outputs": [
    {
     "data": {
      "text/html": [
       "<div>\n",
       "<style scoped>\n",
       "    .dataframe tbody tr th:only-of-type {\n",
       "        vertical-align: middle;\n",
       "    }\n",
       "\n",
       "    .dataframe tbody tr th {\n",
       "        vertical-align: top;\n",
       "    }\n",
       "\n",
       "    .dataframe thead th {\n",
       "        text-align: right;\n",
       "    }\n",
       "</style>\n",
       "<table border=\"1\" class=\"dataframe\">\n",
       "  <thead>\n",
       "    <tr style=\"text-align: right;\">\n",
       "      <th></th>\n",
       "      <th>TimeStamp</th>\n",
       "      <th>Relative Time</th>\n",
       "      <th>srcIP</th>\n",
       "      <th>dstIP</th>\n",
       "      <th>srcPort</th>\n",
       "      <th>dstPort</th>\n",
       "      <th>ipLen</th>\n",
       "      <th>MMS Type</th>\n",
       "      <th>MMS Service</th>\n",
       "      <th>Invoke Id</th>\n",
       "      <th>Domain Id</th>\n",
       "      <th>Item Id</th>\n",
       "      <th>Object Class</th>\n",
       "    </tr>\n",
       "  </thead>\n",
       "  <tbody>\n",
       "    <tr>\n",
       "      <th>0</th>\n",
       "      <td>14:24:50.87</td>\n",
       "      <td>0.868153</td>\n",
       "      <td>192.168.1.11</td>\n",
       "      <td>192.168.1.52</td>\n",
       "      <td>49623</td>\n",
       "      <td>102</td>\n",
       "      <td>78</td>\n",
       "      <td>0</td>\n",
       "      <td>1</td>\n",
       "      <td>720163.0</td>\n",
       "      <td>NaN</td>\n",
       "      <td>NaN</td>\n",
       "      <td>9.0</td>\n",
       "    </tr>\n",
       "    <tr>\n",
       "      <th>1</th>\n",
       "      <td>14:24:50.88</td>\n",
       "      <td>0.881683</td>\n",
       "      <td>192.168.1.52</td>\n",
       "      <td>192.168.1.11</td>\n",
       "      <td>102</td>\n",
       "      <td>49623</td>\n",
       "      <td>564</td>\n",
       "      <td>1</td>\n",
       "      <td>1</td>\n",
       "      <td>720163.0</td>\n",
       "      <td>NaN</td>\n",
       "      <td>NaN</td>\n",
       "      <td>NaN</td>\n",
       "    </tr>\n",
       "    <tr>\n",
       "      <th>2</th>\n",
       "      <td>14:24:52.97</td>\n",
       "      <td>2.976232</td>\n",
       "      <td>192.168.1.12</td>\n",
       "      <td>192.168.1.52</td>\n",
       "      <td>35091</td>\n",
       "      <td>102</td>\n",
       "      <td>78</td>\n",
       "      <td>0</td>\n",
       "      <td>1</td>\n",
       "      <td>137639.0</td>\n",
       "      <td>NaN</td>\n",
       "      <td>NaN</td>\n",
       "      <td>9.0</td>\n",
       "    </tr>\n",
       "    <tr>\n",
       "      <th>3</th>\n",
       "      <td>14:24:52.99</td>\n",
       "      <td>2.989919</td>\n",
       "      <td>192.168.1.52</td>\n",
       "      <td>192.168.1.12</td>\n",
       "      <td>102</td>\n",
       "      <td>35091</td>\n",
       "      <td>564</td>\n",
       "      <td>1</td>\n",
       "      <td>1</td>\n",
       "      <td>137639.0</td>\n",
       "      <td>NaN</td>\n",
       "      <td>NaN</td>\n",
       "      <td>NaN</td>\n",
       "    </tr>\n",
       "    <tr>\n",
       "      <th>4</th>\n",
       "      <td>14:24:54.26</td>\n",
       "      <td>4.259552</td>\n",
       "      <td>192.168.1.11</td>\n",
       "      <td>192.168.1.61</td>\n",
       "      <td>49621</td>\n",
       "      <td>102</td>\n",
       "      <td>78</td>\n",
       "      <td>0</td>\n",
       "      <td>1</td>\n",
       "      <td>720164.0</td>\n",
       "      <td>NaN</td>\n",
       "      <td>NaN</td>\n",
       "      <td>9.0</td>\n",
       "    </tr>\n",
       "    <tr>\n",
       "      <th>...</th>\n",
       "      <td>...</td>\n",
       "      <td>...</td>\n",
       "      <td>...</td>\n",
       "      <td>...</td>\n",
       "      <td>...</td>\n",
       "      <td>...</td>\n",
       "      <td>...</td>\n",
       "      <td>...</td>\n",
       "      <td>...</td>\n",
       "      <td>...</td>\n",
       "      <td>...</td>\n",
       "      <td>...</td>\n",
       "      <td>...</td>\n",
       "    </tr>\n",
       "    <tr>\n",
       "      <th>1553</th>\n",
       "      <td>14:41:04.33</td>\n",
       "      <td>974.330396</td>\n",
       "      <td>192.168.1.51</td>\n",
       "      <td>192.168.1.11</td>\n",
       "      <td>102</td>\n",
       "      <td>49622</td>\n",
       "      <td>556</td>\n",
       "      <td>1</td>\n",
       "      <td>1</td>\n",
       "      <td>720745.0</td>\n",
       "      <td>NaN</td>\n",
       "      <td>NaN</td>\n",
       "      <td>NaN</td>\n",
       "    </tr>\n",
       "    <tr>\n",
       "      <th>1554</th>\n",
       "      <td>14:41:05.40</td>\n",
       "      <td>975.405759</td>\n",
       "      <td>192.168.1.11</td>\n",
       "      <td>192.168.1.52</td>\n",
       "      <td>49623</td>\n",
       "      <td>102</td>\n",
       "      <td>78</td>\n",
       "      <td>0</td>\n",
       "      <td>1</td>\n",
       "      <td>720746.0</td>\n",
       "      <td>NaN</td>\n",
       "      <td>NaN</td>\n",
       "      <td>9.0</td>\n",
       "    </tr>\n",
       "    <tr>\n",
       "      <th>1555</th>\n",
       "      <td>14:41:05.41</td>\n",
       "      <td>975.417950</td>\n",
       "      <td>192.168.1.52</td>\n",
       "      <td>192.168.1.11</td>\n",
       "      <td>102</td>\n",
       "      <td>49623</td>\n",
       "      <td>564</td>\n",
       "      <td>1</td>\n",
       "      <td>1</td>\n",
       "      <td>720746.0</td>\n",
       "      <td>NaN</td>\n",
       "      <td>NaN</td>\n",
       "      <td>NaN</td>\n",
       "    </tr>\n",
       "    <tr>\n",
       "      <th>1556</th>\n",
       "      <td>14:41:05.45</td>\n",
       "      <td>975.457751</td>\n",
       "      <td>192.168.1.12</td>\n",
       "      <td>192.168.1.52</td>\n",
       "      <td>35091</td>\n",
       "      <td>102</td>\n",
       "      <td>78</td>\n",
       "      <td>0</td>\n",
       "      <td>1</td>\n",
       "      <td>137832.0</td>\n",
       "      <td>NaN</td>\n",
       "      <td>NaN</td>\n",
       "      <td>9.0</td>\n",
       "    </tr>\n",
       "    <tr>\n",
       "      <th>1557</th>\n",
       "      <td>14:41:05.47</td>\n",
       "      <td>975.474871</td>\n",
       "      <td>192.168.1.52</td>\n",
       "      <td>192.168.1.12</td>\n",
       "      <td>102</td>\n",
       "      <td>35091</td>\n",
       "      <td>564</td>\n",
       "      <td>1</td>\n",
       "      <td>1</td>\n",
       "      <td>137832.0</td>\n",
       "      <td>NaN</td>\n",
       "      <td>NaN</td>\n",
       "      <td>NaN</td>\n",
       "    </tr>\n",
       "  </tbody>\n",
       "</table>\n",
       "<p>1558 rows × 13 columns</p>\n",
       "</div>"
      ],
      "text/plain": [
       "        TimeStamp  Relative Time         srcIP         dstIP  srcPort  \\\n",
       "0     14:24:50.87       0.868153  192.168.1.11  192.168.1.52    49623   \n",
       "1     14:24:50.88       0.881683  192.168.1.52  192.168.1.11      102   \n",
       "2     14:24:52.97       2.976232  192.168.1.12  192.168.1.52    35091   \n",
       "3     14:24:52.99       2.989919  192.168.1.52  192.168.1.12      102   \n",
       "4     14:24:54.26       4.259552  192.168.1.11  192.168.1.61    49621   \n",
       "...           ...            ...           ...           ...      ...   \n",
       "1553  14:41:04.33     974.330396  192.168.1.51  192.168.1.11      102   \n",
       "1554  14:41:05.40     975.405759  192.168.1.11  192.168.1.52    49623   \n",
       "1555  14:41:05.41     975.417950  192.168.1.52  192.168.1.11      102   \n",
       "1556  14:41:05.45     975.457751  192.168.1.12  192.168.1.52    35091   \n",
       "1557  14:41:05.47     975.474871  192.168.1.52  192.168.1.12      102   \n",
       "\n",
       "      dstPort  ipLen  MMS Type  MMS Service  Invoke Id Domain Id Item Id  \\\n",
       "0         102     78         0            1   720163.0       NaN     NaN   \n",
       "1       49623    564         1            1   720163.0       NaN     NaN   \n",
       "2         102     78         0            1   137639.0       NaN     NaN   \n",
       "3       35091    564         1            1   137639.0       NaN     NaN   \n",
       "4         102     78         0            1   720164.0       NaN     NaN   \n",
       "...       ...    ...       ...          ...        ...       ...     ...   \n",
       "1553    49622    556         1            1   720745.0       NaN     NaN   \n",
       "1554      102     78         0            1   720746.0       NaN     NaN   \n",
       "1555    49623    564         1            1   720746.0       NaN     NaN   \n",
       "1556      102     78         0            1   137832.0       NaN     NaN   \n",
       "1557    35091    564         1            1   137832.0       NaN     NaN   \n",
       "\n",
       "      Object Class  \n",
       "0              9.0  \n",
       "1              NaN  \n",
       "2              9.0  \n",
       "3              NaN  \n",
       "4              9.0  \n",
       "...            ...  \n",
       "1553           NaN  \n",
       "1554           9.0  \n",
       "1555           NaN  \n",
       "1556           9.0  \n",
       "1557           NaN  \n",
       "\n",
       "[1558 rows x 13 columns]"
      ]
     },
     "execution_count": 3,
     "metadata": {},
     "output_type": "execute_result"
    }
   ],
   "source": [
    "# Check the data\n",
    "normal"
   ]
  },
  {
   "cell_type": "code",
   "execution_count": 4,
   "id": "ac7415fc",
   "metadata": {},
   "outputs": [
    {
     "data": {
      "text/plain": [
       "TimeStamp           0\n",
       "Relative Time       0\n",
       "srcIP               0\n",
       "dstIP               0\n",
       "srcPort             0\n",
       "dstPort             0\n",
       "ipLen               0\n",
       "MMS Type            0\n",
       "MMS Service         0\n",
       "Invoke Id           2\n",
       "Domain Id        1557\n",
       "Item Id          1557\n",
       "Object Class      781\n",
       "dtype: int64"
      ]
     },
     "execution_count": 4,
     "metadata": {},
     "output_type": "execute_result"
    }
   ],
   "source": [
    "# Looking for null values\n",
    "normal.isnull().sum()"
   ]
  },
  {
   "cell_type": "code",
   "execution_count": 5,
   "id": "5d76f0f6",
   "metadata": {
    "scrolled": true
   },
   "outputs": [
    {
     "name": "stdout",
     "output_type": "stream",
     "text": [
      "TimeStamp\n",
      "14:36:47.59    3\n",
      "14:36:57.63    3\n",
      "14:29:35.60    2\n",
      "14:26:39.74    2\n",
      "14:30:25.83    2\n",
      "              ..\n",
      "14:30:30.86    1\n",
      "14:30:30.85    1\n",
      "14:30:27.48    1\n",
      "14:30:27.47    1\n",
      "14:41:05.47    1\n",
      "Name: TimeStamp, Length: 1413, dtype: int64\n",
      "______________________________________\n",
      "Relative Time\n",
      "0.868153      1\n",
      "642.247653    1\n",
      "654.645244    1\n",
      "654.632396    1\n",
      "653.942849    1\n",
      "             ..\n",
      "325.781989    1\n",
      "323.821030    1\n",
      "323.808671    1\n",
      "322.414489    1\n",
      "975.474871    1\n",
      "Name: Relative Time, Length: 1558, dtype: int64\n",
      "______________________________________\n",
      "srcIP\n",
      "192.168.1.11    584\n",
      "192.168.1.52    293\n",
      "192.168.1.51    293\n",
      "192.168.1.12    194\n",
      "192.168.1.61    194\n",
      "Name: srcIP, dtype: int64\n",
      "______________________________________\n",
      "dstIP\n",
      "192.168.1.11    585\n",
      "192.168.1.52    293\n",
      "192.168.1.51    291\n",
      "192.168.1.12    195\n",
      "192.168.1.61    194\n",
      "Name: dstIP, dtype: int64\n",
      "______________________________________\n",
      "srcPort\n",
      "102      780\n",
      "49623    195\n",
      "49622    195\n",
      "49621    194\n",
      "35091     98\n",
      "35347     96\n",
      "Name: srcPort, dtype: int64\n",
      "______________________________________\n",
      "dstPort\n",
      "102      778\n",
      "49622    196\n",
      "49623    195\n",
      "49621    194\n",
      "35091     98\n",
      "35347     97\n",
      "Name: dstPort, dtype: int64\n",
      "______________________________________\n",
      "ipLen\n",
      "78     777\n",
      "564    293\n",
      "556    290\n",
      "141    194\n",
      "170      1\n",
      "71       1\n",
      "238      1\n",
      "305      1\n",
      "Name: ipLen, dtype: int64\n",
      "______________________________________\n",
      "MMS Type\n",
      "0    778\n",
      "1    778\n",
      "3      2\n",
      "Name: MMS Type, dtype: int64\n",
      "______________________________________\n",
      "MMS Service\n",
      "1    1554\n",
      "5       2\n",
      "0       2\n",
      "Name: MMS Service, dtype: int64\n",
      "______________________________________\n",
      "Invoke Id\n",
      "720163.0    2\n",
      "720564.0    2\n",
      "720548.0    2\n",
      "137766.0    2\n",
      "720549.0    2\n",
      "           ..\n",
      "720359.0    2\n",
      "720360.0    2\n",
      "720361.0    2\n",
      "137705.0    2\n",
      "137832.0    2\n",
      "Name: Invoke Id, Length: 778, dtype: int64\n",
      "______________________________________\n",
      "Domain Id\n",
      "T112BCUUD6    1\n",
      "Name: Domain Id, dtype: int64\n",
      "______________________________________\n",
      "Item Id\n",
      "USER1$CO$CtlVal$Oper    1\n",
      "Name: Item Id, dtype: int64\n",
      "______________________________________\n",
      "Object Class\n",
      "9.0    777\n",
      "Name: Object Class, dtype: int64\n",
      "______________________________________\n"
     ]
    }
   ],
   "source": [
    "# Looking for uniques values for each feature\n",
    "for i in normal.columns:\n",
    "    print(i)\n",
    "    print(normal[i].value_counts())\n",
    "    print(\"______________________________________\")"
   ]
  },
  {
   "cell_type": "code",
   "execution_count": 6,
   "id": "9b094903",
   "metadata": {},
   "outputs": [
    {
     "data": {
      "text/html": [
       "<div>\n",
       "<style scoped>\n",
       "    .dataframe tbody tr th:only-of-type {\n",
       "        vertical-align: middle;\n",
       "    }\n",
       "\n",
       "    .dataframe tbody tr th {\n",
       "        vertical-align: top;\n",
       "    }\n",
       "\n",
       "    .dataframe thead th {\n",
       "        text-align: right;\n",
       "    }\n",
       "</style>\n",
       "<table border=\"1\" class=\"dataframe\">\n",
       "  <thead>\n",
       "    <tr style=\"text-align: right;\">\n",
       "      <th></th>\n",
       "      <th>TimeStamp</th>\n",
       "      <th>Relative Time</th>\n",
       "      <th>srcIP</th>\n",
       "      <th>dstIP</th>\n",
       "      <th>srcPort</th>\n",
       "      <th>dstPort</th>\n",
       "      <th>ipLen</th>\n",
       "      <th>MMS Type</th>\n",
       "      <th>MMS Service</th>\n",
       "      <th>Invoke Id</th>\n",
       "      <th>Domain Id</th>\n",
       "      <th>Item Id</th>\n",
       "      <th>Object Class</th>\n",
       "    </tr>\n",
       "  </thead>\n",
       "  <tbody>\n",
       "  </tbody>\n",
       "</table>\n",
       "</div>"
      ],
      "text/plain": [
       "Empty DataFrame\n",
       "Columns: [TimeStamp, Relative Time, srcIP, dstIP, srcPort, dstPort, ipLen, MMS Type, MMS Service, Invoke Id, Domain Id, Item Id, Object Class]\n",
       "Index: []"
      ]
     },
     "execution_count": 6,
     "metadata": {},
     "output_type": "execute_result"
    }
   ],
   "source": [
    "# Looking for duplicate values \n",
    "duplicate = normal[normal.duplicated()]\n",
    "duplicate"
   ]
  },
  {
   "cell_type": "code",
   "execution_count": 7,
   "id": "ad12554f",
   "metadata": {},
   "outputs": [],
   "source": [
    "# replacing NaN values with 'no return'\n",
    "normal['Domain Id'] = normal['Domain Id'].fillna('no return')\n",
    "normal['Item Id'] = normal['Item Id'].fillna('no return')\n",
    "normal['Object Class'] = normal['Object Class'].fillna('no return')\n",
    "\n",
    "#Droping the timestamp column\n",
    "normal.drop(columns=['TimeStamp'], inplace = True)\n",
    "\n",
    "#Droping the redundant column 'srcIP' and 'dstIP'\n",
    "normal.drop(columns=['srcIP', 'dstIP'], inplace = True)\n",
    "\n",
    "#Droping the all there other NaN values present\n",
    "normal_temp = normal.dropna()"
   ]
  },
  {
   "cell_type": "code",
   "execution_count": 8,
   "id": "fc2eee5a",
   "metadata": {},
   "outputs": [
    {
     "name": "stdout",
     "output_type": "stream",
     "text": [
      "<class 'pandas.core.frame.DataFrame'>\n",
      "RangeIndex: 1558 entries, 0 to 1557\n",
      "Data columns (total 10 columns):\n",
      " #   Column         Non-Null Count  Dtype  \n",
      "---  ------         --------------  -----  \n",
      " 0   Relative Time  1558 non-null   float64\n",
      " 1   srcPort        1558 non-null   int64  \n",
      " 2   dstPort        1558 non-null   int64  \n",
      " 3   ipLen          1558 non-null   int64  \n",
      " 4   MMS Type       1558 non-null   int64  \n",
      " 5   MMS Service    1558 non-null   int64  \n",
      " 6   Invoke Id      1556 non-null   float64\n",
      " 7   Domain Id      1558 non-null   object \n",
      " 8   Item Id        1558 non-null   object \n",
      " 9   Object Class   1558 non-null   object \n",
      "dtypes: float64(2), int64(5), object(3)\n",
      "memory usage: 121.8+ KB\n"
     ]
    }
   ],
   "source": [
    "normal.info()"
   ]
  },
  {
   "cell_type": "code",
   "execution_count": 9,
   "id": "1a548ad4",
   "metadata": {
    "scrolled": false
   },
   "outputs": [
    {
     "data": {
      "text/plain": [
       "Relative Time    0\n",
       "srcPort          0\n",
       "dstPort          0\n",
       "ipLen            0\n",
       "MMS Type         0\n",
       "MMS Service      0\n",
       "Invoke Id        0\n",
       "Domain Id        0\n",
       "Item Id          0\n",
       "Object Class     0\n",
       "dtype: int64"
      ]
     },
     "execution_count": 9,
     "metadata": {},
     "output_type": "execute_result"
    }
   ],
   "source": [
    "normal_temp.isnull().sum()"
   ]
  },
  {
   "cell_type": "code",
   "execution_count": 10,
   "id": "e2252b6f",
   "metadata": {},
   "outputs": [
    {
     "data": {
      "text/plain": [
       "(1556, 10)"
      ]
     },
     "execution_count": 10,
     "metadata": {},
     "output_type": "execute_result"
    }
   ],
   "source": [
    "normal_temp.shape"
   ]
  },
  {
   "cell_type": "code",
   "execution_count": 11,
   "id": "7fb23d61",
   "metadata": {},
   "outputs": [],
   "source": [
    "# One-Hot Encoding of features with discrte and object datatype\n",
    "normal_temp = pd.get_dummies(normal_temp,columns=[\"Domain Id\",\"Item Id\",\"Object Class\"]) "
   ]
  },
  {
   "cell_type": "code",
   "execution_count": 12,
   "id": "0a15883a",
   "metadata": {},
   "outputs": [
    {
     "data": {
      "text/plain": [
       "(1556, 13)"
      ]
     },
     "execution_count": 12,
     "metadata": {},
     "output_type": "execute_result"
    }
   ],
   "source": [
    "normal_temp.shape"
   ]
  },
  {
   "cell_type": "code",
   "execution_count": 13,
   "id": "44cbb5e0",
   "metadata": {},
   "outputs": [],
   "source": [
    "# Converting pandas df to numpy array\n",
    "normal_temp = normal_temp.to_numpy()     "
   ]
  },
  {
   "cell_type": "code",
   "execution_count": 14,
   "id": "862fea87",
   "metadata": {},
   "outputs": [],
   "source": [
    "# Normalizing the data using MinMaxScaler\n",
    "scaler = MinMaxScaler()\n",
    "normal_temp = scaler.fit_transform(normal_temp)"
   ]
  },
  {
   "cell_type": "code",
   "execution_count": 15,
   "id": "3091ca32",
   "metadata": {},
   "outputs": [],
   "source": [
    "# Creating label for normal network data\n",
    "final_normal_label = np.zeros(shape=(normal_temp.shape[0]))\n",
    "for i in range(len(normal_temp)):\n",
    "    final_normal_label[i] = 0 "
   ]
  },
  {
   "cell_type": "code",
   "execution_count": 16,
   "id": "7386b390",
   "metadata": {},
   "outputs": [
    {
     "data": {
      "text/plain": [
       "array([0., 0., 0., ..., 0., 0., 0.])"
      ]
     },
     "execution_count": 16,
     "metadata": {},
     "output_type": "execute_result"
    }
   ],
   "source": [
    "final_normal_label"
   ]
  },
  {
   "cell_type": "markdown",
   "id": "3979bc23",
   "metadata": {},
   "source": [
    "## Attack Data PreProcessing"
   ]
  },
  {
   "cell_type": "code",
   "execution_count": 17,
   "id": "cfb1f623",
   "metadata": {},
   "outputs": [
    {
     "name": "stdout",
     "output_type": "stream",
     "text": [
      "(2944, 13)\n"
     ]
    }
   ],
   "source": [
    "# Load the attack data\n",
    "\n",
    "attack = pd.read_csv(\"inside_substation_attack3.csv\", sep = ';')\n",
    "print(attack.shape)"
   ]
  },
  {
   "cell_type": "code",
   "execution_count": 18,
   "id": "378c29e1",
   "metadata": {
    "scrolled": false
   },
   "outputs": [
    {
     "data": {
      "text/html": [
       "<div>\n",
       "<style scoped>\n",
       "    .dataframe tbody tr th:only-of-type {\n",
       "        vertical-align: middle;\n",
       "    }\n",
       "\n",
       "    .dataframe tbody tr th {\n",
       "        vertical-align: top;\n",
       "    }\n",
       "\n",
       "    .dataframe thead th {\n",
       "        text-align: right;\n",
       "    }\n",
       "</style>\n",
       "<table border=\"1\" class=\"dataframe\">\n",
       "  <thead>\n",
       "    <tr style=\"text-align: right;\">\n",
       "      <th></th>\n",
       "      <th>TimeStamp</th>\n",
       "      <th>Relative Time</th>\n",
       "      <th>srcIP</th>\n",
       "      <th>dstIP</th>\n",
       "      <th>srcPort</th>\n",
       "      <th>dstPort</th>\n",
       "      <th>ipLen</th>\n",
       "      <th>MMS Type</th>\n",
       "      <th>MMS Service</th>\n",
       "      <th>Invoke Id</th>\n",
       "      <th>Domain Id</th>\n",
       "      <th>Item Id</th>\n",
       "      <th>Object Class</th>\n",
       "    </tr>\n",
       "  </thead>\n",
       "  <tbody>\n",
       "    <tr>\n",
       "      <th>0</th>\n",
       "      <td>15:40:51.25</td>\n",
       "      <td>1.576335</td>\n",
       "      <td>192.168.1.11</td>\n",
       "      <td>192.168.1.61</td>\n",
       "      <td>49621</td>\n",
       "      <td>102</td>\n",
       "      <td>78</td>\n",
       "      <td>0</td>\n",
       "      <td>1.0</td>\n",
       "      <td>722892.0</td>\n",
       "      <td>NaN</td>\n",
       "      <td>NaN</td>\n",
       "      <td>9.0</td>\n",
       "    </tr>\n",
       "    <tr>\n",
       "      <th>1</th>\n",
       "      <td>15:40:51.26</td>\n",
       "      <td>1.579245</td>\n",
       "      <td>192.168.1.61</td>\n",
       "      <td>192.168.1.11</td>\n",
       "      <td>102</td>\n",
       "      <td>49621</td>\n",
       "      <td>141</td>\n",
       "      <td>1</td>\n",
       "      <td>1.0</td>\n",
       "      <td>722892.0</td>\n",
       "      <td>NaN</td>\n",
       "      <td>NaN</td>\n",
       "      <td>NaN</td>\n",
       "    </tr>\n",
       "    <tr>\n",
       "      <th>2</th>\n",
       "      <td>15:40:51.69</td>\n",
       "      <td>2.015327</td>\n",
       "      <td>192.168.1.11</td>\n",
       "      <td>192.168.1.51</td>\n",
       "      <td>49622</td>\n",
       "      <td>102</td>\n",
       "      <td>78</td>\n",
       "      <td>0</td>\n",
       "      <td>1.0</td>\n",
       "      <td>722893.0</td>\n",
       "      <td>NaN</td>\n",
       "      <td>NaN</td>\n",
       "      <td>9.0</td>\n",
       "    </tr>\n",
       "    <tr>\n",
       "      <th>3</th>\n",
       "      <td>15:40:51.71</td>\n",
       "      <td>2.030111</td>\n",
       "      <td>192.168.1.51</td>\n",
       "      <td>192.168.1.11</td>\n",
       "      <td>102</td>\n",
       "      <td>49622</td>\n",
       "      <td>556</td>\n",
       "      <td>1</td>\n",
       "      <td>1.0</td>\n",
       "      <td>722893.0</td>\n",
       "      <td>NaN</td>\n",
       "      <td>NaN</td>\n",
       "      <td>NaN</td>\n",
       "    </tr>\n",
       "    <tr>\n",
       "      <th>4</th>\n",
       "      <td>15:40:52.93</td>\n",
       "      <td>3.248270</td>\n",
       "      <td>192.168.1.12</td>\n",
       "      <td>192.168.1.51</td>\n",
       "      <td>35347</td>\n",
       "      <td>102</td>\n",
       "      <td>78</td>\n",
       "      <td>0</td>\n",
       "      <td>1.0</td>\n",
       "      <td>138541.0</td>\n",
       "      <td>NaN</td>\n",
       "      <td>NaN</td>\n",
       "      <td>9.0</td>\n",
       "    </tr>\n",
       "    <tr>\n",
       "      <th>...</th>\n",
       "      <td>...</td>\n",
       "      <td>...</td>\n",
       "      <td>...</td>\n",
       "      <td>...</td>\n",
       "      <td>...</td>\n",
       "      <td>...</td>\n",
       "      <td>...</td>\n",
       "      <td>...</td>\n",
       "      <td>...</td>\n",
       "      <td>...</td>\n",
       "      <td>...</td>\n",
       "      <td>...</td>\n",
       "      <td>...</td>\n",
       "    </tr>\n",
       "    <tr>\n",
       "      <th>2939</th>\n",
       "      <td>15:55:36.10</td>\n",
       "      <td>886.424643</td>\n",
       "      <td>192.168.1.51</td>\n",
       "      <td>192.168.1.11</td>\n",
       "      <td>102</td>\n",
       "      <td>49622</td>\n",
       "      <td>556</td>\n",
       "      <td>1</td>\n",
       "      <td>1.0</td>\n",
       "      <td>723421.0</td>\n",
       "      <td>NaN</td>\n",
       "      <td>NaN</td>\n",
       "      <td>NaN</td>\n",
       "    </tr>\n",
       "    <tr>\n",
       "      <th>2940</th>\n",
       "      <td>15:55:37.17</td>\n",
       "      <td>887.493803</td>\n",
       "      <td>192.168.1.12</td>\n",
       "      <td>192.168.1.52</td>\n",
       "      <td>35091</td>\n",
       "      <td>102</td>\n",
       "      <td>78</td>\n",
       "      <td>0</td>\n",
       "      <td>1.0</td>\n",
       "      <td>138713.0</td>\n",
       "      <td>NaN</td>\n",
       "      <td>NaN</td>\n",
       "      <td>9.0</td>\n",
       "    </tr>\n",
       "    <tr>\n",
       "      <th>2941</th>\n",
       "      <td>15:55:37.18</td>\n",
       "      <td>887.507047</td>\n",
       "      <td>192.168.1.52</td>\n",
       "      <td>192.168.1.12</td>\n",
       "      <td>102</td>\n",
       "      <td>35091</td>\n",
       "      <td>564</td>\n",
       "      <td>1</td>\n",
       "      <td>1.0</td>\n",
       "      <td>138713.0</td>\n",
       "      <td>NaN</td>\n",
       "      <td>NaN</td>\n",
       "      <td>NaN</td>\n",
       "    </tr>\n",
       "    <tr>\n",
       "      <th>2942</th>\n",
       "      <td>15:55:37.51</td>\n",
       "      <td>887.834889</td>\n",
       "      <td>192.168.1.11</td>\n",
       "      <td>192.168.1.52</td>\n",
       "      <td>49623</td>\n",
       "      <td>102</td>\n",
       "      <td>78</td>\n",
       "      <td>0</td>\n",
       "      <td>1.0</td>\n",
       "      <td>723422.0</td>\n",
       "      <td>NaN</td>\n",
       "      <td>NaN</td>\n",
       "      <td>9.0</td>\n",
       "    </tr>\n",
       "    <tr>\n",
       "      <th>2943</th>\n",
       "      <td>15:55:37.53</td>\n",
       "      <td>887.848021</td>\n",
       "      <td>192.168.1.52</td>\n",
       "      <td>192.168.1.11</td>\n",
       "      <td>102</td>\n",
       "      <td>49623</td>\n",
       "      <td>564</td>\n",
       "      <td>1</td>\n",
       "      <td>1.0</td>\n",
       "      <td>723422.0</td>\n",
       "      <td>NaN</td>\n",
       "      <td>NaN</td>\n",
       "      <td>NaN</td>\n",
       "    </tr>\n",
       "  </tbody>\n",
       "</table>\n",
       "<p>2944 rows × 13 columns</p>\n",
       "</div>"
      ],
      "text/plain": [
       "        TimeStamp  Relative Time         srcIP         dstIP  srcPort  \\\n",
       "0     15:40:51.25       1.576335  192.168.1.11  192.168.1.61    49621   \n",
       "1     15:40:51.26       1.579245  192.168.1.61  192.168.1.11      102   \n",
       "2     15:40:51.69       2.015327  192.168.1.11  192.168.1.51    49622   \n",
       "3     15:40:51.71       2.030111  192.168.1.51  192.168.1.11      102   \n",
       "4     15:40:52.93       3.248270  192.168.1.12  192.168.1.51    35347   \n",
       "...           ...            ...           ...           ...      ...   \n",
       "2939  15:55:36.10     886.424643  192.168.1.51  192.168.1.11      102   \n",
       "2940  15:55:37.17     887.493803  192.168.1.12  192.168.1.52    35091   \n",
       "2941  15:55:37.18     887.507047  192.168.1.52  192.168.1.12      102   \n",
       "2942  15:55:37.51     887.834889  192.168.1.11  192.168.1.52    49623   \n",
       "2943  15:55:37.53     887.848021  192.168.1.52  192.168.1.11      102   \n",
       "\n",
       "      dstPort  ipLen  MMS Type  MMS Service  Invoke Id Domain Id Item Id  \\\n",
       "0         102     78         0          1.0   722892.0       NaN     NaN   \n",
       "1       49621    141         1          1.0   722892.0       NaN     NaN   \n",
       "2         102     78         0          1.0   722893.0       NaN     NaN   \n",
       "3       49622    556         1          1.0   722893.0       NaN     NaN   \n",
       "4         102     78         0          1.0   138541.0       NaN     NaN   \n",
       "...       ...    ...       ...          ...        ...       ...     ...   \n",
       "2939    49622    556         1          1.0   723421.0       NaN     NaN   \n",
       "2940      102     78         0          1.0   138713.0       NaN     NaN   \n",
       "2941    35091    564         1          1.0   138713.0       NaN     NaN   \n",
       "2942      102     78         0          1.0   723422.0       NaN     NaN   \n",
       "2943    49623    564         1          1.0   723422.0       NaN     NaN   \n",
       "\n",
       "      Object Class  \n",
       "0              9.0  \n",
       "1              NaN  \n",
       "2              9.0  \n",
       "3              NaN  \n",
       "4              9.0  \n",
       "...            ...  \n",
       "2939           NaN  \n",
       "2940           9.0  \n",
       "2941           NaN  \n",
       "2942           9.0  \n",
       "2943           NaN  \n",
       "\n",
       "[2944 rows x 13 columns]"
      ]
     },
     "execution_count": 18,
     "metadata": {},
     "output_type": "execute_result"
    }
   ],
   "source": [
    "# Check the data\n",
    "attack"
   ]
  },
  {
   "cell_type": "code",
   "execution_count": 19,
   "id": "32d94656",
   "metadata": {
    "scrolled": true
   },
   "outputs": [
    {
     "name": "stdout",
     "output_type": "stream",
     "text": [
      "TimeStamp\n",
      "15:47:08.04    4\n",
      "15:46:52.97    4\n",
      "15:46:53.41    3\n",
      "15:47:28.53    3\n",
      "15:47:04.89    3\n",
      "              ..\n",
      "15:47:00.73    1\n",
      "15:47:00.72    1\n",
      "15:47:00.58    1\n",
      "15:47:00.57    1\n",
      "15:55:37.53    1\n",
      "Name: TimeStamp, Length: 2295, dtype: int64\n",
      "______________________________________\n",
      "Relative Time\n",
      "1.576335      1\n",
      "408.984677    1\n",
      "408.199154    1\n",
      "408.204348    1\n",
      "408.229839    1\n",
      "             ..\n",
      "370.955913    1\n",
      "370.956382    1\n",
      "370.971447    1\n",
      "370.972567    1\n",
      "887.848021    1\n",
      "Name: Relative Time, Length: 2944, dtype: int64\n",
      "______________________________________\n",
      "srcIP\n",
      "192.168.1.11    1271\n",
      "192.168.1.51    1057\n",
      "192.168.1.52     266\n",
      "192.168.1.61     177\n",
      "192.168.1.12     173\n",
      "Name: srcIP, dtype: int64\n",
      "______________________________________\n",
      "dstIP\n",
      "192.168.1.11    1315\n",
      "192.168.1.51    1001\n",
      "192.168.1.52     266\n",
      "192.168.1.12     185\n",
      "192.168.1.61     177\n",
      "Name: dstIP, dtype: int64\n",
      "______________________________________\n",
      "srcPort\n",
      "102      1500\n",
      "64218     740\n",
      "49621     177\n",
      "49622     177\n",
      "49623     177\n",
      "35091      89\n",
      "35347      84\n",
      "Name: srcPort, dtype: int64\n",
      "______________________________________\n",
      "dstPort\n",
      "102      1444\n",
      "64218     772\n",
      "49622     189\n",
      "49621     177\n",
      "49623     177\n",
      "35347      96\n",
      "35091      89\n",
      "Name: dstPort, dtype: int64\n",
      "______________________________________\n",
      "ipLen\n",
      "78      705\n",
      "564     268\n",
      "556     261\n",
      "141     177\n",
      "113     162\n",
      "       ... \n",
      "214       1\n",
      "1316      1\n",
      "1014      1\n",
      "976       1\n",
      "866       1\n",
      "Name: ipLen, Length: 250, dtype: int64\n",
      "______________________________________\n",
      "MMS Type\n",
      "0     1442\n",
      "1     1442\n",
      "3       56\n",
      "8        1\n",
      "9        1\n",
      "11       1\n",
      "12       1\n",
      "Name: MMS Type, dtype: int64\n",
      "______________________________________\n",
      "MMS Service\n",
      "1.0     1892\n",
      "4.0      526\n",
      "6.0      378\n",
      "5.0       74\n",
      "0.0       56\n",
      "12.0      10\n",
      "11.0       2\n",
      "13.0       2\n",
      "Name: MMS Service, dtype: int64\n",
      "______________________________________\n",
      "Invoke Id\n",
      "722892.0    2\n",
      "723135.0    2\n",
      "644.0       2\n",
      "643.0       2\n",
      "642.0       2\n",
      "           ..\n",
      "184.0       2\n",
      "183.0       2\n",
      "182.0       2\n",
      "181.0       2\n",
      "723422.0    2\n",
      "Name: Invoke Id, Length: 1442, dtype: int64\n",
      "______________________________________\n",
      "Domain Id\n",
      "T112BCUUD6                                             180\n",
      "T112BCUApplication                                      63\n",
      "T112BCUPowS_MeasPointI3ph1                              52\n",
      "T112BCUPowS_MeasPointV3ph1                              42\n",
      "T112BCURec_FaultRecorder                                32\n",
      "T112BCUCBc1                                             14\n",
      "T112BCUDc2                                              12\n",
      "T112BCUDc3                                              12\n",
      "T112BCUCBc2                                             12\n",
      "T112BCUDc1                                              12\n",
      "T112BCUUD3                                              12\n",
      "T112BCUUD8                                              12\n",
      "T112BCUUD7                                              12\n",
      "T112BCUVI3p1                                            12\n",
      "T112BCUTap1                                             12\n",
      "T112BCUUD1,T112BCUUD1                                    2\n",
      "T112BCURec_FaultRecorder,T112BCUPowS_MeasPointV3ph1      2\n",
      "T112BCUUD1                                               1\n",
      "T112BCUCBc1,T112BCUCBc2                                  1\n",
      "T112BCUVI3p1_OperationalValues                           1\n",
      "T112BCUApplication,T112BCUApplication                    1\n",
      "Name: Domain Id, dtype: int64\n",
      "______________________________________\n",
      "Item Id\n",
      "USER1$ST$CtlVal$stVal                131\n",
      "USER1$CO$CtlVal$Oper                  31\n",
      "LLN0$DC$NamPlt                        30\n",
      "CSWI1$CF$Pos                          20\n",
      "CSWI1$ST$Pos                          15\n",
      "                                    ... \n",
      "LLN0$RP$A_URCB_1201                    1\n",
      "DEF_RDRE1$ST$MemRs,U_SSUM1$ST$Mod      1\n",
      "LLN0$RP$A_URCB_1201$DatSet             1\n",
      "LLN0$RP$A_URCB_1201$GI                 1\n",
      "LLN0$001B1B80D648MX1                   1\n",
      "Name: Item Id, Length: 87, dtype: int64\n",
      "______________________________________\n",
      "Object Class\n",
      "9.0    707\n",
      "0.0    207\n",
      "2.0     32\n",
      "Name: Object Class, dtype: int64\n",
      "______________________________________\n"
     ]
    }
   ],
   "source": [
    "# Looking for uniques values for each feature\n",
    "for i in attack.columns:\n",
    "    print(i)\n",
    "    print(attack[i].value_counts())\n",
    "    print(\"______________________________________\")"
   ]
  },
  {
   "cell_type": "code",
   "execution_count": 20,
   "id": "1b4ca31e",
   "metadata": {
    "scrolled": true
   },
   "outputs": [
    {
     "data": {
      "text/plain": [
       "TimeStamp           0\n",
       "Relative Time       0\n",
       "srcIP               0\n",
       "dstIP               0\n",
       "srcPort             0\n",
       "dstPort             0\n",
       "ipLen               0\n",
       "MMS Type            0\n",
       "MMS Service         4\n",
       "Invoke Id          60\n",
       "Domain Id        2445\n",
       "Item Id          2450\n",
       "Object Class     1998\n",
       "dtype: int64"
      ]
     },
     "execution_count": 20,
     "metadata": {},
     "output_type": "execute_result"
    }
   ],
   "source": [
    "# Looking for null values\n",
    "\n",
    "attack.isnull().sum()"
   ]
  },
  {
   "cell_type": "code",
   "execution_count": 21,
   "id": "4ee54457",
   "metadata": {},
   "outputs": [
    {
     "data": {
      "text/html": [
       "<div>\n",
       "<style scoped>\n",
       "    .dataframe tbody tr th:only-of-type {\n",
       "        vertical-align: middle;\n",
       "    }\n",
       "\n",
       "    .dataframe tbody tr th {\n",
       "        vertical-align: top;\n",
       "    }\n",
       "\n",
       "    .dataframe thead th {\n",
       "        text-align: right;\n",
       "    }\n",
       "</style>\n",
       "<table border=\"1\" class=\"dataframe\">\n",
       "  <thead>\n",
       "    <tr style=\"text-align: right;\">\n",
       "      <th></th>\n",
       "      <th>TimeStamp</th>\n",
       "      <th>Relative Time</th>\n",
       "      <th>srcIP</th>\n",
       "      <th>dstIP</th>\n",
       "      <th>srcPort</th>\n",
       "      <th>dstPort</th>\n",
       "      <th>ipLen</th>\n",
       "      <th>MMS Type</th>\n",
       "      <th>MMS Service</th>\n",
       "      <th>Invoke Id</th>\n",
       "      <th>Domain Id</th>\n",
       "      <th>Item Id</th>\n",
       "      <th>Object Class</th>\n",
       "    </tr>\n",
       "  </thead>\n",
       "  <tbody>\n",
       "  </tbody>\n",
       "</table>\n",
       "</div>"
      ],
      "text/plain": [
       "Empty DataFrame\n",
       "Columns: [TimeStamp, Relative Time, srcIP, dstIP, srcPort, dstPort, ipLen, MMS Type, MMS Service, Invoke Id, Domain Id, Item Id, Object Class]\n",
       "Index: []"
      ]
     },
     "execution_count": 21,
     "metadata": {},
     "output_type": "execute_result"
    }
   ],
   "source": [
    "# Looking for duplicate values \n",
    "duplicate = attack[attack.duplicated()]\n",
    "duplicate"
   ]
  },
  {
   "cell_type": "code",
   "execution_count": 22,
   "id": "62880a95",
   "metadata": {},
   "outputs": [],
   "source": [
    "# replacing NaN values with 'no return'\n",
    "attack['Domain Id'] = attack['Domain Id'].fillna('no return')\n",
    "attack['Item Id'] = attack['Item Id'].fillna('no return')\n",
    "attack['Object Class'] = attack['Object Class'].fillna('no return')\n",
    "\n",
    "#Droping the timestamp column\n",
    "attack.drop(columns=['TimeStamp'], inplace = True)\n",
    "\n",
    "#Droping the redundant column 'srcIP' and 'dstIP'\n",
    "attack.drop(columns=['srcIP', 'dstIP'], inplace = True)\n",
    "\n",
    "#Droping the all there other NaN values present\n",
    "attack_temp = attack.dropna()"
   ]
  },
  {
   "cell_type": "code",
   "execution_count": 23,
   "id": "7cd76cce",
   "metadata": {},
   "outputs": [
    {
     "data": {
      "text/plain": [
       "Relative Time    0\n",
       "srcPort          0\n",
       "dstPort          0\n",
       "ipLen            0\n",
       "MMS Type         0\n",
       "MMS Service      0\n",
       "Invoke Id        0\n",
       "Domain Id        0\n",
       "Item Id          0\n",
       "Object Class     0\n",
       "dtype: int64"
      ]
     },
     "execution_count": 23,
     "metadata": {},
     "output_type": "execute_result"
    }
   ],
   "source": [
    "attack_temp.isnull().sum()"
   ]
  },
  {
   "cell_type": "code",
   "execution_count": 24,
   "id": "130bc376",
   "metadata": {},
   "outputs": [
    {
     "name": "stdout",
     "output_type": "stream",
     "text": [
      "<class 'pandas.core.frame.DataFrame'>\n",
      "Int64Index: 2884 entries, 0 to 2943\n",
      "Data columns (total 10 columns):\n",
      " #   Column         Non-Null Count  Dtype  \n",
      "---  ------         --------------  -----  \n",
      " 0   Relative Time  2884 non-null   float64\n",
      " 1   srcPort        2884 non-null   int64  \n",
      " 2   dstPort        2884 non-null   int64  \n",
      " 3   ipLen          2884 non-null   int64  \n",
      " 4   MMS Type       2884 non-null   int64  \n",
      " 5   MMS Service    2884 non-null   float64\n",
      " 6   Invoke Id      2884 non-null   float64\n",
      " 7   Domain Id      2884 non-null   object \n",
      " 8   Item Id        2884 non-null   object \n",
      " 9   Object Class   2884 non-null   object \n",
      "dtypes: float64(3), int64(4), object(3)\n",
      "memory usage: 247.8+ KB\n"
     ]
    }
   ],
   "source": [
    "attack_temp.info()"
   ]
  },
  {
   "cell_type": "code",
   "execution_count": 25,
   "id": "98c8e28d",
   "metadata": {},
   "outputs": [],
   "source": [
    "# One-Hot Encoding of features with discrte and object datatype\n",
    "attack_temp = pd.get_dummies(attack_temp,columns=[\"Domain Id\",\"Item Id\",\"Object Class\"]) "
   ]
  },
  {
   "cell_type": "code",
   "execution_count": 26,
   "id": "dcc36ecf",
   "metadata": {},
   "outputs": [
    {
     "data": {
      "text/plain": [
       "(2884, 121)"
      ]
     },
     "execution_count": 26,
     "metadata": {},
     "output_type": "execute_result"
    }
   ],
   "source": [
    "attack_temp.shape"
   ]
  },
  {
   "cell_type": "code",
   "execution_count": 27,
   "id": "f900f04e",
   "metadata": {},
   "outputs": [],
   "source": [
    "#Performing PCA for dimension reduction process to reduce the dimension from 121 to 13\n",
    "\n",
    "from sklearn.decomposition import PCA\n",
    "\n",
    "pca = PCA(n_components=13)\n",
    "attack_temp = pca.fit_transform(attack_temp)"
   ]
  },
  {
   "cell_type": "code",
   "execution_count": 28,
   "id": "b68b1c25",
   "metadata": {},
   "outputs": [
    {
     "data": {
      "text/plain": [
       "array([[ 4.39794804e+05, -3.50156156e+04, -9.90539990e+02, ...,\n",
       "         1.19907700e-03, -6.35292375e-03,  3.44510053e-03],\n",
       "       [ 4.39794806e+05,  3.50146442e+04, -9.91452471e+02, ...,\n",
       "        -4.14600445e-03,  5.89854851e-03,  9.84634317e-03],\n",
       "       [ 4.39795796e+05, -3.50163227e+04, -9.91257244e+02, ...,\n",
       "         1.19769664e-03, -6.34923889e-03,  3.44207583e-03],\n",
       "       ...,\n",
       "       [-1.44227634e+05,  2.47419215e+04,  1.59943511e+04, ...,\n",
       "        -1.02556933e-02,  5.40509678e-02, -3.01076404e-02],\n",
       "       [ 4.40324824e+05, -3.50170297e+04, -9.95489450e+02, ...,\n",
       "         4.87693631e-04, -5.79554417e-03, -2.65485117e-05],\n",
       "       [ 4.40324839e+05,  3.50174748e+04, -9.94219598e+02, ...,\n",
       "         6.79305052e-04,  6.31329434e-03, -8.51301953e-03]])"
      ]
     },
     "execution_count": 28,
     "metadata": {},
     "output_type": "execute_result"
    }
   ],
   "source": [
    "attack_temp"
   ]
  },
  {
   "cell_type": "code",
   "execution_count": 29,
   "id": "f391fedd",
   "metadata": {},
   "outputs": [
    {
     "data": {
      "text/plain": [
       "(2884, 13)"
      ]
     },
     "execution_count": 29,
     "metadata": {},
     "output_type": "execute_result"
    }
   ],
   "source": [
    "attack_temp.shape"
   ]
  },
  {
   "cell_type": "code",
   "execution_count": 30,
   "id": "0b1056f7",
   "metadata": {},
   "outputs": [],
   "source": [
    "# Normalizing the data using MinMaxScaler\n",
    "scaler = MinMaxScaler()\n",
    "attack_temp = scaler.fit_transform(attack_temp)"
   ]
  },
  {
   "cell_type": "code",
   "execution_count": 31,
   "id": "28c9c9ef",
   "metadata": {},
   "outputs": [],
   "source": [
    "# Creating label for attack network data\n",
    "final_attack_label = np.zeros(shape=(attack_temp.shape[0]))\n",
    "for i in range(len(attack_temp)):\n",
    "    final_attack_label[i] = 1  "
   ]
  },
  {
   "cell_type": "code",
   "execution_count": 32,
   "id": "96c2dddd",
   "metadata": {},
   "outputs": [],
   "source": [
    "# mergeing normal and attack dataset\n",
    "final = np.concatenate((normal_temp, attack_temp), axis=0)"
   ]
  },
  {
   "cell_type": "code",
   "execution_count": 33,
   "id": "ee3362ad",
   "metadata": {},
   "outputs": [
    {
     "data": {
      "text/plain": [
       "(4440, 13)"
      ]
     },
     "execution_count": 33,
     "metadata": {},
     "output_type": "execute_result"
    }
   ],
   "source": [
    "final.shape"
   ]
  },
  {
   "cell_type": "code",
   "execution_count": 34,
   "id": "7a073884",
   "metadata": {},
   "outputs": [],
   "source": [
    "# merging the labels dataset\n",
    "final_labels = np.concatenate((final_normal_label, final_attack_label), axis=0)"
   ]
  },
  {
   "cell_type": "code",
   "execution_count": 35,
   "id": "8c4973b1",
   "metadata": {},
   "outputs": [
    {
     "data": {
      "text/plain": [
       "(4440,)"
      ]
     },
     "execution_count": 35,
     "metadata": {},
     "output_type": "execute_result"
    }
   ],
   "source": [
    "final_labels.shape"
   ]
  },
  {
   "cell_type": "code",
   "execution_count": 36,
   "id": "f9540412",
   "metadata": {},
   "outputs": [],
   "source": [
    "#shuffle the data with respect to their labels\n",
    "\n",
    "idx = np.random.permutation(len(final))\n",
    "X,y = final[idx], final_labels[idx]"
   ]
  },
  {
   "cell_type": "code",
   "execution_count": 37,
   "id": "3cab6708",
   "metadata": {},
   "outputs": [],
   "source": [
    "# Spliting the dataset into training and testing sets\n",
    "from sklearn.model_selection import train_test_split\n",
    "\n",
    "X_train, X_test, y_train, y_test = train_test_split(X,y, test_size=0.2)"
   ]
  },
  {
   "cell_type": "code",
   "execution_count": 38,
   "id": "18f9515d",
   "metadata": {},
   "outputs": [
    {
     "name": "stdout",
     "output_type": "stream",
     "text": [
      "(3552, 13)\n",
      "(888, 13)\n",
      "(3552,)\n",
      "(888,)\n"
     ]
    }
   ],
   "source": [
    "print(X_train.shape)\n",
    "print(X_test.shape)\n",
    "print(y_train.shape)\n",
    "print(y_test.shape)"
   ]
  },
  {
   "cell_type": "code",
   "execution_count": 39,
   "id": "83238e39",
   "metadata": {},
   "outputs": [],
   "source": [
    "# sequential model \n",
    "model = Sequential()\n",
    "\n",
    "model.add(Dense(32, activation='relu',input_shape = (13,)))\n",
    "model.add(Dropout(0.2))\n",
    "model.add(Dense(32, activation='relu'))\n",
    "model.add(Dropout(0.2))\n",
    "model.add(Dense(2, activation='softmax'))"
   ]
  },
  {
   "cell_type": "code",
   "execution_count": 40,
   "id": "97527b0d",
   "metadata": {},
   "outputs": [
    {
     "data": {
      "text/plain": [
       "array([0., 1.], dtype=float32)"
      ]
     },
     "execution_count": 40,
     "metadata": {},
     "output_type": "execute_result"
    }
   ],
   "source": [
    "# One Hot Encoding the labels\n",
    "num_class = 2\n",
    "\n",
    "y_train = keras.utils.to_categorical(y_train, num_class)\n",
    "y_test = keras.utils.to_categorical(y_test, num_class)\n",
    "\n",
    "y_train[150]\n"
   ]
  },
  {
   "cell_type": "code",
   "execution_count": 41,
   "id": "0f956bc1",
   "metadata": {},
   "outputs": [
    {
     "name": "stdout",
     "output_type": "stream",
     "text": [
      "Model: \"sequential\"\n",
      "_________________________________________________________________\n",
      "Layer (type)                 Output Shape              Param #   \n",
      "=================================================================\n",
      "dense (Dense)                (None, 32)                448       \n",
      "_________________________________________________________________\n",
      "dropout (Dropout)            (None, 32)                0         \n",
      "_________________________________________________________________\n",
      "dense_1 (Dense)              (None, 32)                1056      \n",
      "_________________________________________________________________\n",
      "dropout_1 (Dropout)          (None, 32)                0         \n",
      "_________________________________________________________________\n",
      "dense_2 (Dense)              (None, 2)                 66        \n",
      "=================================================================\n",
      "Total params: 1,570\n",
      "Trainable params: 1,570\n",
      "Non-trainable params: 0\n",
      "_________________________________________________________________\n"
     ]
    }
   ],
   "source": [
    "model.summary()"
   ]
  },
  {
   "cell_type": "code",
   "execution_count": 42,
   "id": "079f700a",
   "metadata": {},
   "outputs": [],
   "source": [
    "# compile the model using RMSprop optimizer\n",
    "model.compile(loss='categorical_crossentropy',\n",
    "             optimizer=RMSprop(lr=0.001),\n",
    "             metrics=['accuracy'])"
   ]
  },
  {
   "cell_type": "code",
   "execution_count": 43,
   "id": "f0ccd2a3",
   "metadata": {
    "scrolled": true
   },
   "outputs": [
    {
     "name": "stdout",
     "output_type": "stream",
     "text": [
      "Epoch 1/10\n",
      "28/28 [==============================] - 0s 5ms/step - loss: 0.5339 - accuracy: 0.7500 - val_loss: 0.3381 - val_accuracy: 0.9865\n",
      "Epoch 2/10\n",
      "28/28 [==============================] - 0s 2ms/step - loss: 0.2685 - accuracy: 0.9541 - val_loss: 0.1371 - val_accuracy: 1.0000\n",
      "Epoch 3/10\n",
      "28/28 [==============================] - 0s 2ms/step - loss: 0.1236 - accuracy: 0.9842 - val_loss: 0.0462 - val_accuracy: 1.0000\n",
      "Epoch 4/10\n",
      "28/28 [==============================] - 0s 2ms/step - loss: 0.0509 - accuracy: 0.9972 - val_loss: 0.0140 - val_accuracy: 1.0000\n",
      "Epoch 5/10\n",
      "28/28 [==============================] - 0s 2ms/step - loss: 0.0275 - accuracy: 0.9986 - val_loss: 0.0046 - val_accuracy: 1.0000\n",
      "Epoch 6/10\n",
      "28/28 [==============================] - 0s 1ms/step - loss: 0.0167 - accuracy: 0.9992 - val_loss: 0.0019 - val_accuracy: 1.0000\n",
      "Epoch 7/10\n",
      "28/28 [==============================] - 0s 2ms/step - loss: 0.0134 - accuracy: 0.9992 - val_loss: 7.6639e-04 - val_accuracy: 1.0000\n",
      "Epoch 8/10\n",
      "28/28 [==============================] - 0s 2ms/step - loss: 0.0079 - accuracy: 0.9994 - val_loss: 4.8739e-04 - val_accuracy: 1.0000\n",
      "Epoch 9/10\n",
      "28/28 [==============================] - 0s 1ms/step - loss: 0.0065 - accuracy: 0.9994 - val_loss: 2.9563e-04 - val_accuracy: 1.0000\n",
      "Epoch 10/10\n",
      "28/28 [==============================] - 0s 1ms/step - loss: 0.0060 - accuracy: 0.9992 - val_loss: 2.2304e-04 - val_accuracy: 1.0000\n"
     ]
    }
   ],
   "source": [
    "# training the model\n",
    "batch_size = 128\n",
    "epochs = 10\n",
    "\n",
    "his = model.fit(X_train, y_train, batch_size = batch_size, epochs = epochs, verbose = 1, validation_data=(X_test, y_test))"
   ]
  },
  {
   "cell_type": "code",
   "execution_count": 44,
   "id": "522d3871",
   "metadata": {},
   "outputs": [
    {
     "name": "stdout",
     "output_type": "stream",
     "text": [
      "dict_keys(['loss', 'accuracy', 'val_loss', 'val_accuracy'])\n"
     ]
    }
   ],
   "source": [
    "print(his.history.keys())"
   ]
  },
  {
   "cell_type": "code",
   "execution_count": 45,
   "id": "d1685197",
   "metadata": {},
   "outputs": [
    {
     "data": {
      "image/png": "[encoded data removed]",
      "text/plain": [
       "<Figure size 432x288 with 1 Axes>"
      ]
     },
     "metadata": {
      "needs_background": "light"
     },
     "output_type": "display_data"
    }
   ],
   "source": [
    "plt.plot(his.history['loss'])\n",
    "plt.plot(his.history['val_loss'])\n",
    "plt.title('model loss')\n",
    "plt.ylabel('loss')\n",
    "plt.xlabel('epoch')\n",
    "plt.legend(['train', 'test'], loc='upper left')\n",
    "plt.show()"
   ]
  },
  {
   "cell_type": "code",
   "execution_count": 46,
   "id": "e2ea22a9",
   "metadata": {},
   "outputs": [
    {
     "data": {
      "image/png": "[encoded data removed]",
      "text/plain": [
       "<Figure size 432x288 with 1 Axes>"
      ]
     },
     "metadata": {
      "needs_background": "light"
     },
     "output_type": "display_data"
    }
   ],
   "source": [
    "plt.plot(his.history['accuracy'])\n",
    "plt.plot(his.history['val_accuracy'])\n",
    "plt.title('model accuracy')\n",
    "plt.ylabel('accuracy')\n",
    "plt.xlabel('epoch')\n",
    "plt.legend(['train', 'test'], loc='upper left')\n",
    "plt.show()"
   ]
  },
  {
   "cell_type": "code",
   "execution_count": 47,
   "id": "b5fa3f85",
   "metadata": {},
   "outputs": [],
   "source": [
    "# Prediction for y_test\n",
    "y_hat = model.predict(X_test)\n",
    "y_hat[y_hat <= 0.5] = 0\n",
    "y_hat[y_hat > 0.5] = 1"
   ]
  },
  {
   "cell_type": "code",
   "execution_count": 48,
   "id": "5baf1dbc",
   "metadata": {},
   "outputs": [
    {
     "name": "stdout",
     "output_type": "stream",
     "text": [
      "              precision    recall  f1-score   support\n",
      "\n",
      "           0       1.00      1.00      1.00       306\n",
      "           1       1.00      1.00      1.00       582\n",
      "\n",
      "   micro avg       1.00      1.00      1.00       888\n",
      "   macro avg       1.00      1.00      1.00       888\n",
      "weighted avg       1.00      1.00      1.00       888\n",
      " samples avg       1.00      1.00      1.00       888\n",
      "\n"
     ]
    }
   ],
   "source": [
    "# Classification report on the model \n",
    "print(classification_report(y_test, y_hat))"
   ]
  },
  {
   "cell_type": "code",
   "execution_count": 49,
   "id": "9919ed36",
   "metadata": {},
   "outputs": [
    {
     "data": {
      "text/plain": [
       "1.0"
      ]
     },
     "execution_count": 49,
     "metadata": {},
     "output_type": "execute_result"
    }
   ],
   "source": [
    "# Model Accuracy\n",
    "accuracy_score(y_test, y_hat)"
   ]
  }
 ],
 "metadata": {
  "kernelspec": {
   "display_name": "Python 3 (ipykernel)",
   "language": "python",
   "name": "python3"
  },
  "language_info": {
   "codemirror_mode": {
    "name": "ipython",
    "version": 3
   },
   "file_extension": ".py",
   "mimetype": "text/x-python",
   "name": "python",
   "nbconvert_exporter": "python",
   "pygments_lexer": "ipython3",
   "version": "3.8.13"
  }
 },
 "nbformat": 4,
 "nbformat_minor": 5
}
