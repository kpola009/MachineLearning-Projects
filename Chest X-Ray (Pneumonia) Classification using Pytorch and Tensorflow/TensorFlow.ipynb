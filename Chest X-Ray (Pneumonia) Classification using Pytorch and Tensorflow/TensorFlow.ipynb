{
 "cells": [
  {
   "cell_type": "code",
   "execution_count": 1,
   "id": "dff932e0",
   "metadata": {},
   "outputs": [
    {
     "name": "stderr",
     "output_type": "stream",
     "text": [
      "C:\\Users\\ketul\\anaconda3\\envs\\TensorflowGPU\\lib\\site-packages\\scipy\\__init__.py:146: UserWarning: A NumPy version >=1.16.5 and <1.23.0 is required for this version of SciPy (detected version 1.23.1\n",
      "  warnings.warn(f\"A NumPy version >={np_minversion} and <{np_maxversion}\"\n"
     ]
    }
   ],
   "source": [
    "import os\n",
    "import numpy as np\n",
    "import tensorflow as tf"
   ]
  },
  {
   "cell_type": "code",
   "execution_count": 2,
   "id": "9d5694f0",
   "metadata": {},
   "outputs": [
    {
     "name": "stdout",
     "output_type": "stream",
     "text": [
      "There are 3 directories and 0 images in 'chest_xray'.\n",
      "There are 2 directories and 0 images in 'chest_xray\\test'.\n",
      "There are 0 directories and 234 images in 'chest_xray\\test\\NORMAL'.\n",
      "There are 0 directories and 390 images in 'chest_xray\\test\\PNEUMONIA'.\n",
      "There are 2 directories and 0 images in 'chest_xray\\train'.\n",
      "There are 0 directories and 1341 images in 'chest_xray\\train\\NORMAL'.\n",
      "There are 0 directories and 3875 images in 'chest_xray\\train\\PNEUMONIA'.\n",
      "There are 2 directories and 0 images in 'chest_xray\\val'.\n",
      "There are 0 directories and 8 images in 'chest_xray\\val\\NORMAL'.\n",
      "There are 0 directories and 8 images in 'chest_xray\\val\\PNEUMONIA'.\n"
     ]
    }
   ],
   "source": [
    "for dirpath, dirnames, filenames in os.walk(\"chest_xray\"):\n",
    "    print(f\"There are {len(dirnames)} directories and {len(filenames)} images in '{dirpath}'.\")"
   ]
  },
  {
   "cell_type": "code",
   "execution_count": 2,
   "id": "3c351e3c",
   "metadata": {},
   "outputs": [
    {
     "data": {
      "text/plain": [
       "1341"
      ]
     },
     "execution_count": 2,
     "metadata": {},
     "output_type": "execute_result"
    }
   ],
   "source": [
    "num_of_normal_images = len(os.listdir(\"chest_xray/train/NORMAL\"))\n",
    "num_of_normal_images"
   ]
  },
  {
   "cell_type": "code",
   "execution_count": 3,
   "id": "0a8747bd",
   "metadata": {},
   "outputs": [
    {
     "data": {
      "text/plain": [
       "3875"
      ]
     },
     "execution_count": 3,
     "metadata": {},
     "output_type": "execute_result"
    }
   ],
   "source": [
    "num_of_normal_images = len(os.listdir(\"chest_xray/train/PNEUMONIA\"))\n",
    "num_of_normal_images"
   ]
  },
  {
   "cell_type": "code",
   "execution_count": 4,
   "id": "36c4f0a1",
   "metadata": {},
   "outputs": [
    {
     "data": {
      "text/plain": [
       "234"
      ]
     },
     "execution_count": 4,
     "metadata": {},
     "output_type": "execute_result"
    }
   ],
   "source": [
    "num_of_normal_images = len(os.listdir(\"chest_xray/test/NORMAL\"))\n",
    "num_of_normal_images"
   ]
  },
  {
   "cell_type": "code",
   "execution_count": 5,
   "id": "38690875",
   "metadata": {},
   "outputs": [
    {
     "data": {
      "text/plain": [
       "390"
      ]
     },
     "execution_count": 5,
     "metadata": {},
     "output_type": "execute_result"
    }
   ],
   "source": [
    "num_of_normal_images = len(os.listdir(\"chest_xray/test/PNEUMONIA\"))\n",
    "num_of_normal_images"
   ]
  },
  {
   "cell_type": "code",
   "execution_count": 13,
   "id": "e2214792",
   "metadata": {},
   "outputs": [
    {
     "name": "stdout",
     "output_type": "stream",
     "text": [
      "Found 5216 images belonging to 2 classes.\n",
      "Found 624 images belonging to 2 classes.\n"
     ]
    }
   ],
   "source": [
    "from tensorflow.keras.preprocessing.image import ImageDataGenerator\n",
    "\n",
    "tf.random.set_seed(42)\n",
    "\n",
    "train_datagen = ImageDataGenerator(rescale=1./255)\n",
    "test_datagen = ImageDataGenerator(rescale=1./255)\n",
    "\n",
    "train_dir = \"chest_xray/train/\"\n",
    "test_dir = \"chest_xray/test/\"\n",
    "\n",
    "\n",
    "train_data = train_datagen.flow_from_directory(train_dir,\n",
    "                                               batch_size=64, # number of images to process at a time \n",
    "                                               target_size=(224, 224), # convert all images to be 224 x 224\n",
    "                                               class_mode=\"binary\", # type of problem we're working on\n",
    "                                               seed=42)\n",
    "\n",
    "valid_data = test_datagen.flow_from_directory(test_dir,\n",
    "                                               batch_size=32,\n",
    "                                               target_size=(224, 224),\n",
    "                                               class_mode=\"binary\",\n",
    "                                               seed=42)"
   ]
  },
  {
   "cell_type": "code",
   "execution_count": 15,
   "id": "1b91fbda",
   "metadata": {},
   "outputs": [
    {
     "name": "stdout",
     "output_type": "stream",
     "text": [
      "Epoch 1/5\n",
      "82/82 [==============================] - 41s 501ms/step - loss: 0.3212 - accuracy: 0.8614 - val_loss: 0.6217 - val_accuracy: 0.7484\n",
      "Epoch 2/5\n",
      "82/82 [==============================] - 42s 511ms/step - loss: 0.1333 - accuracy: 0.9500 - val_loss: 0.9057 - val_accuracy: 0.7516\n",
      "Epoch 3/5\n",
      "82/82 [==============================] - 41s 503ms/step - loss: 0.0974 - accuracy: 0.9672 - val_loss: 0.9750 - val_accuracy: 0.7404\n",
      "Epoch 4/5\n",
      "82/82 [==============================] - 41s 504ms/step - loss: 0.1054 - accuracy: 0.9632 - val_loss: 0.8785 - val_accuracy: 0.7500\n",
      "Epoch 5/5\n",
      "82/82 [==============================] - 43s 523ms/step - loss: 0.0785 - accuracy: 0.9726 - val_loss: 1.0927 - val_accuracy: 0.7356\n"
     ]
    }
   ],
   "source": [
    "model_1 = tf.keras.models.Sequential([\n",
    "  tf.keras.layers.Conv2D(filters=10, \n",
    "                         kernel_size=3, # can also be (3, 3)\n",
    "                         activation=\"relu\", \n",
    "                         input_shape=(224, 224, 3)), # first layer specifies input shape (height, width, colour channels)\n",
    "  tf.keras.layers.Conv2D(10, 3, activation=\"relu\"),\n",
    "  tf.keras.layers.MaxPool2D(pool_size=2, # pool_size can also be (2, 2)\n",
    "                            padding=\"valid\"), # padding can also be 'same'\n",
    "  tf.keras.layers.Conv2D(10, 3, activation=\"relu\"),\n",
    "  tf.keras.layers.Conv2D(10, 3, activation=\"relu\"), # activation='relu' == tf.keras.layers.Activations(tf.nn.relu)\n",
    "  tf.keras.layers.MaxPool2D(2),\n",
    "  tf.keras.layers.Flatten(),\n",
    "  tf.keras.layers.Dense(1, activation=\"sigmoid\") # binary activation output\n",
    "])\n",
    "\n",
    "# Compile the model\n",
    "model_1.compile(loss=\"binary_crossentropy\",\n",
    "              optimizer=tf.keras.optimizers.Adam(),\n",
    "              metrics=[\"accuracy\"])\n",
    "\n",
    "# Fit the model\n",
    "history_1 = model_1.fit(train_data,\n",
    "                        epochs=5,\n",
    "                        steps_per_epoch=len(train_data),\n",
    "                        validation_data=valid_data,\n",
    "                        validation_steps=len(valid_data))"
   ]
  },
  {
   "cell_type": "code",
   "execution_count": 10,
   "id": "b24ac34e",
   "metadata": {},
   "outputs": [
    {
     "name": "stdout",
     "output_type": "stream",
     "text": [
      "[name: \"/device:CPU:0\"\n",
      "device_type: \"CPU\"\n",
      "memory_limit: 268435456\n",
      "locality {\n",
      "}\n",
      "incarnation: 4900507692812608574\n",
      "xla_global_id: -1\n",
      ", name: \"/device:GPU:0\"\n",
      "device_type: \"GPU\"\n",
      "memory_limit: 2254123828\n",
      "locality {\n",
      "  bus_id: 1\n",
      "  links {\n",
      "  }\n",
      "}\n",
      "incarnation: 308533925223448196\n",
      "physical_device_desc: \"device: 0, name: NVIDIA GeForce GTX 1650 Ti with Max-Q Design, pci bus id: 0000:01:00.0, compute capability: 7.5\"\n",
      "xla_global_id: 416903419\n",
      "]\n"
     ]
    }
   ],
   "source": [
    "from tensorflow.python.client import device_lib\n",
    "print(device_lib.list_local_devices())"
   ]
  }
 ],
 "metadata": {
  "kernelspec": {
   "display_name": "Python 3 (ipykernel)",
   "language": "python",
   "name": "python3"
  },
  "language_info": {
   "codemirror_mode": {
    "name": "ipython",
    "version": 3
   },
   "file_extension": ".py",
   "mimetype": "text/x-python",
   "name": "python",
   "nbconvert_exporter": "python",
   "pygments_lexer": "ipython3",
   "version": "3.8.13"
  }
 },
 "nbformat": 4,
 "nbformat_minor": 5
}
